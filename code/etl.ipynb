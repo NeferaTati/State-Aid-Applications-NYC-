{
 "cells": [
  {
   "cell_type": "code",
   "execution_count": 2,
   "metadata": {},
   "outputs": [],
   "source": [
    "import csv\n",
    "import pandas as pd\n",
    "\n",
    "afsaid = []\n",
    "with open(\"../data/raw/finance/Application_for_State_Aid.csv\", \"r\") as file:\n",
    "    reader = csv.DictReader(file)\n",
    "\n",
    "    for row in reader:\n",
    "        afsaid.append(row)"
   ]
  },
  {
   "cell_type": "code",
   "execution_count": 3,
   "metadata": {},
   "outputs": [],
   "source": [
    "import csv\n",
    "import pandas as pd\n",
    "\n",
    "# DF = DataFrame + Afsaid = Application.csv\n",
    "afsaid = []\n",
    "with open(\"C:/Users/TATIANNA.ANDERSON/Mini Capstone23/mini_cap/data/raw/finance/Application_for_State_Aid.csv\", \"r\") as file:\n",
    "    reader = csv.DictReader(file)\n",
    "    for row in reader:\n",
    "        afsaid.append(row)\n",
    "\n",
    "\n",
    "df = pd.DataFrame(afsaid)\n",
    "\n",
    "\n",
    "df = df.drop_duplicates()\n",
    "\n",
    "df['DATE APPLICATION'] = pd.to_datetime(df['DATE APPLICATION SUBMITTED TO SED']).dt.year\n",
    "\n",
    "\n",
    "df.to_csv(\"transformed_data.csv\", index=False)\n",
    "\n",
    "\n"
   ]
  }
 ],
 "metadata": {
  "kernelspec": {
   "display_name": "Python 3",
   "language": "python",
   "name": "python3"
  },
  "language_info": {
   "codemirror_mode": {
    "name": "ipython",
    "version": 3
   },
   "file_extension": ".py",
   "mimetype": "text/x-python",
   "name": "python",
   "nbconvert_exporter": "python",
   "pygments_lexer": "ipython3",
   "version": "3.10.7"
  },
  "orig_nbformat": 4
 },
 "nbformat": 4,
 "nbformat_minor": 2
}

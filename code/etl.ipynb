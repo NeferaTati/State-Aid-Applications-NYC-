{
 "cells": [
  {
   "cell_type": "markdown",
   "metadata": {},
   "source": [
    "## Extract\n",
    "\n",
    "In the first section of your ETL pipeline, you will extract your data sources from the `data/raw` folder or from the location of your choice.\n",
    "\n",
    "(delete this markdown block when complete)"
   ]
  },
  {
   "cell_type": "code",
   "execution_count": null,
   "metadata": {},
   "outputs": [],
   "source": []
  },
  {
   "cell_type": "markdown",
   "metadata": {},
   "source": [
    "## Transform\n",
    "\n",
    "After completing your extraction step, you will then move on to transform your data via pandas in order to:\n",
    "\n",
    "* clean data\n",
    "* engineer new columns\n",
    "\n",
    "These transformations will help you answer your analyses questions in `eda` and `cda`.\n",
    "\n",
    "(delete this markdown block when complete)"
   ]
  },
  {
   "cell_type": "code",
   "execution_count": null,
   "metadata": {},
   "outputs": [],
   "source": []
  },
  {
   "cell_type": "code",
   "execution_count": null,
   "metadata": {},
   "outputs": [],
   "source": []
  },
  {
   "cell_type": "markdown",
   "metadata": {},
   "source": [
    "## Load\n",
    "\n",
    "Finally, you will save your data back into your `data/transformed` folder.\n",
    "\n",
    "(delete this markdown block when complete)"
   ]
  },
  {
   "cell_type": "code",
   "execution_count": null,
   "metadata": {},
   "outputs": [],
   "source": []
  }
 ],
 "metadata": {
  "language_info": {
   "name": "python"
  },
  "orig_nbformat": 4
 },
 "nbformat": 4,
 "nbformat_minor": 2
}

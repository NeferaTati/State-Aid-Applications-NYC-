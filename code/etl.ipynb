{
 "cells": [
  {
   "cell_type": "code",
   "execution_count": 6,
   "metadata": {},
   "outputs": [
    {
     "ename": "SyntaxError",
     "evalue": "(unicode error) 'unicodeescape' codec can't decode bytes in position 2-3: truncated \\UXXXXXXXX escape (1143723016.py, line 5)",
     "output_type": "error",
     "traceback": [
      "\u001b[1;36m  Cell \u001b[1;32mIn [6], line 5\u001b[1;36m\u001b[0m\n\u001b[1;33m    with open(\"C:\\Users\\TATIANNA.ANDERSON\\Mini Capstone23\\mini_cap\\data\\raw\\finance\\Application_for_State_Aid.csv\", \"r\") as file:\u001b[0m\n\u001b[1;37m                                                                                                                  ^\u001b[0m\n\u001b[1;31mSyntaxError\u001b[0m\u001b[1;31m:\u001b[0m (unicode error) 'unicodeescape' codec can't decode bytes in position 2-3: truncated \\UXXXXXXXX escape\n"
     ]
    }
   ],
   "source": [
    "import csv\n",
    "import pandas as pd\n",
    "\n",
    "afsaid = []\n",
    "with open(\"Application_for_state_Aid.csv\", \"r\") as file:\n",
    "    reader = csv.DictReader(file)\n",
    "\n",
    "    for row in reader:\n",
    "        afsaid.append(row)"
   ]
  },
  {
   "cell_type": "markdown",
   "metadata": {},
   "source": [
    "## Transform\n",
    "\n",
    "After completing your extraction step, you will then move on to transform your data via pandas in order to:\n",
    "\n",
    "* clean data\n",
    "* engineer new columns\n",
    "\n",
    "These transformations will help you answer your analyses questions in `eda` and `cda`.\n",
    "\n",
    "(delete this markdown block when complete)"
   ]
  },
  {
   "cell_type": "code",
   "execution_count": 7,
   "metadata": {},
   "outputs": [],
   "source": [
    "import csv\n",
    "import pandas as pd\n",
    "\n",
    "# DF = DataFrame + Afsaid = Application.csv\n",
    "afsaid = []\n",
    "with open(\"C:/Users/TATIANNA.ANDERSON/Mini Capstone23/mini_cap/data/raw/finance/Application_for_State_Aid.csv\", \"r\") as file:\n",
    "    reader = csv.DictReader(file)\n",
    "    for row in reader:\n",
    "        afsaid.append(row)\n",
    "\n",
    "\n",
    "df = pd.DataFrame(afsaid)\n",
    "\n",
    "\n",
    "df = df.drop_duplicates()\n",
    "\n",
    "df['DATE APPLICATION'] = pd.to_datetime(df['DATE APPLICATION SUBMITTED TO SED']).dt.year\n",
    "\n",
    "\n",
    "df.to_csv(\"transformed_data.csv\", index=False)\n",
    "\n",
    "\n"
   ]
  },
  {
   "cell_type": "markdown",
   "metadata": {},
   "source": [
    "## Load\n",
    "\n",
    "I need help figuring out what i need to get done"
   ]
  },
  {
   "cell_type": "code",
   "execution_count": null,
   "metadata": {},
   "outputs": [],
   "source": []
  }
 ],
 "metadata": {
  "kernelspec": {
   "display_name": "Python 3",
   "language": "python",
   "name": "python3"
  },
  "language_info": {
   "codemirror_mode": {
    "name": "ipython",
    "version": 3
   },
   "file_extension": ".py",
   "mimetype": "text/x-python",
   "name": "python",
   "nbconvert_exporter": "python",
   "pygments_lexer": "ipython3",
   "version": "3.10.7"
  },
  "orig_nbformat": 4
 },
 "nbformat": 4,
 "nbformat_minor": 2
}
